{
 "cells": [
  {
   "cell_type": "markdown",
   "id": "0abf04d9",
   "metadata": {},
   "source": [
    "NOTA: Este es un conjunto de ejercicios para mejorar la lógica de programación y masterizar el uso de Python. Se ha intentado usar lo máximo posible programación declarativa, lo pidiera o no el enunciado. Los ejercicios que requieren input del usuario se deben ejecutar en un terminal, ya que no funciona del todo bien en jupyter notebook."
   ]
  },
  {
   "cell_type": "markdown",
   "id": "3665501f",
   "metadata": {},
   "source": [
    "1. Escribe una función que reciba una cadena de texto como parámetro y devuelva un diccionario con las frecuencias de cada letra en la cadena. Los espacios no deben ser considerados."
   ]
  },
  {
   "cell_type": "code",
   "execution_count": null,
   "id": "96d3a2d7",
   "metadata": {},
   "outputs": [],
   "source": [
    "def frecuencia_letras(texto):\n",
    "    diccionario = {}\n",
    "    for letra in texto:\n",
    "        if letra != \" \":\n",
    "            if letra in diccionario:\n",
    "                diccionario[letra] += 1\n",
    "            else:\n",
    "                diccionario[letra] = 1\n",
    "    return diccionario\n",
    "\n",
    "print(frecuencia_letras(\"hola mundo\"))  # {'h': 1, 'o': 2, 'l': 1, 'a': 1, 'm': 1, 'u': 1, 'n': 1, 'd': 1}"
   ]
  },
  {
   "cell_type": "markdown",
   "id": "fb43429b",
   "metadata": {},
   "source": [
    "2. Dada una lista de números, obtén una nueva lista con el doble de cada valor. Usa la función map()."
   ]
  },
  {
   "cell_type": "code",
   "execution_count": null,
   "id": "7736067f",
   "metadata": {},
   "outputs": [],
   "source": [
    "def lista_dobles(numeros):\n",
    "    return list(map(lambda x: x * 2, numeros))\n",
    "\n",
    "print(lista_dobles([1, 2, 3, 4, 5]))  # [2, 4, 6, 8, 10]"
   ]
  },
  {
   "cell_type": "markdown",
   "id": "8345948b",
   "metadata": {},
   "source": [
    "3. Escribe una función que tome una lista de palabras y una palabra objetivo como parámetros. La función debe devolver una lista con todas las palabras de la lista original que contengan la palabra objetivo."
   ]
  },
  {
   "cell_type": "code",
   "execution_count": null,
   "id": "7cb5443d",
   "metadata": {},
   "outputs": [],
   "source": [
    "def contiene(palabras, palabra_objetivo):\n",
    "    return [p for p in palabras if palabra_objetivo in p]     \n",
    "\n",
    "print(contiene([\"hola\", \"mundo\", \"hola mundo\", \"mundo hola\"], \"hola\"))  # ['hola', 'hola mundo', 'mundo hola']"
   ]
  },
  {
   "cell_type": "markdown",
   "id": "975b1bac",
   "metadata": {},
   "source": [
    "4. Genera una función que calcule la diferencia entre los valores de dos listas. Usa la función map()"
   ]
  },
  {
   "cell_type": "code",
   "execution_count": null,
   "id": "50cb305c",
   "metadata": {},
   "outputs": [],
   "source": [
    "def diferencia_listas(lista1, lista2):\n",
    "    return list(map(lambda x, y: x-y, lista1, lista2))\n",
    "\n",
    "print(diferencia_listas([1, 4, 2], [1, 2, 3])) # [0, 2, -1]"
   ]
  },
  {
   "cell_type": "markdown",
   "id": "fc8cba8a",
   "metadata": {},
   "source": [
    "5. Ecribe una función que tome una lista de números como parámetro y un valor opcional nota_aprobado, que por defecto es 5. \n",
    "La función debe calcular la media de los números en la lista y determinar si la media es mayor o igual que nota aprobado. \n",
    "Si es así, el estado será \"aprobado\", de lo contrario, será \"suspenso\". La función debe devolver una tupla que contenga la media y el estado."
   ]
  },
  {
   "cell_type": "code",
   "execution_count": null,
   "id": "1583fd52",
   "metadata": {},
   "outputs": [],
   "source": [
    "def media_y_estado(numeros, nota_aprobado = 5):\n",
    "    media = sum(numeros) / len(numeros) if numeros else 0  #para evitar la división entre 0\n",
    "    estado = 'aprobado' if media >= nota_aprobado else 'suspenso'\n",
    "    resultado = (media, estado)\n",
    "\n",
    "    return resultado\n",
    "\n",
    "print(media_y_estado([5, 6, 7])) # (6.0, 'aprobado')"
   ]
  },
  {
   "cell_type": "markdown",
   "id": "82779de7",
   "metadata": {},
   "source": [
    "6. Escribe una función que calcule el factorial de un número de manera recursiva"
   ]
  },
  {
   "cell_type": "code",
   "execution_count": null,
   "id": "30d5b359",
   "metadata": {},
   "outputs": [],
   "source": [
    "def factorial(n):\n",
    "    if n == 0:\n",
    "        return 1\n",
    "    else:\n",
    "        return n * factorial(n-1)\n",
    "    \n",
    "print(factorial(5)) # 120"
   ]
  },
  {
   "cell_type": "markdown",
   "id": "398d3822",
   "metadata": {},
   "source": [
    "7. Genera una función que convierta una lista de tuplas a una lista de strings. Usa la función map()"
   ]
  },
  {
   "cell_type": "code",
   "execution_count": null,
   "id": "da79278b",
   "metadata": {},
   "outputs": [],
   "source": [
    "def tuplas_a_strings(tuplas):\n",
    "    return list(map(lambda x: f\"{x[0]}-{x[1]}\", tuplas))\n",
    "\n",
    "print(tuplas_a_strings([(1, 2), (3, 4), (5, 6)])) # ['1-2', '3-4', '5-6']"
   ]
  },
  {
   "cell_type": "markdown",
   "id": "d943d614",
   "metadata": {},
   "source": [
    "8. Escribe un programa que pida al usuario dos números e intente dividirlos. \n",
    "Si el usuario ingresa un valor no numérico o intenta dividir por cero, maneja esas excepciones de manera adecuada. \n",
    "Asegúrate de mostrar un mensaje indicando si la división fue exitosa o no."
   ]
  },
  {
   "cell_type": "code",
   "execution_count": null,
   "id": "58fd8092",
   "metadata": {},
   "outputs": [],
   "source": [
    "def division():\n",
    "    try:\n",
    "        num1 = float(input(\"Introduce un número: \"))\n",
    "        num2 = float(input(\"Introduce otro número: \"))\n",
    "        resultado = num1 / num2\n",
    "        print(f\"La división es: {resultado}\")\n",
    "    except ValueError:\n",
    "        print(\"Debes introducir un número\")\n",
    "    except ZeroDivisionError:\n",
    "        print(\"No puedes dividir entre 0\")\n",
    "\n",
    "division() # Introduce un número: 5 // Introduce otro número: 0 // No puedes dividir entre 0"
   ]
  },
  {
   "cell_type": "markdown",
   "id": "d762c5fe",
   "metadata": {},
   "source": [
    "9. Escribe una función que tome una lista de nombres de mascotas como parámetro y devuelva una nueva lista excluyendo ciertas mascotas prohibidas en España. \n",
    "La lista de mascotas a excluir es [\"Mapache\", \"Tigre\", \"Serpiente Pitón\", \"Cocodrilo\", \"Oso\"].Usa la función filter()"
   ]
  },
  {
   "cell_type": "code",
   "execution_count": null,
   "id": "af91ef38",
   "metadata": {},
   "outputs": [],
   "source": [
    "def mascotas_legales(mascotas):\n",
    "    prohibidas = [\"Mapache\", \"Tigre\", \"Serpiente Pitón\", \"Cocodrilo\", \"Oso\"]\n",
    "    return list(filter(lambda m: m not in prohibidas, mascotas))    \n",
    "\n",
    "print(mascotas_legales([\"Perro\", \"Gato\", \"Mapache\", \"Tigre\", \"Serpiente Pitón\", \"Cocodrilo\", \"Oso\"])) # ['Perro', 'Gato']"
   ]
  },
  {
   "cell_type": "markdown",
   "id": "c0af8081",
   "metadata": {},
   "source": [
    " 10. Escribe una función que reciba una lista de números y calcule su promedio. Si la lista está vacía, lanza una excepción personalizada y maneja el error adecuadamente."
   ]
  },
  {
   "cell_type": "code",
   "execution_count": null,
   "id": "8873ae95",
   "metadata": {},
   "outputs": [],
   "source": [
    "class EmptyList(Exception):\n",
    "    pass\n",
    "\n",
    "def promedio(numeros):\n",
    "    try:\n",
    "        if len(numeros) == 0:\n",
    "            raise EmptyList(\"La lista proporcionada está vacía\") \n",
    "        return sum(numeros) / len(numeros)\n",
    "    except EmptyList as e:\n",
    "        return str(e)\n",
    "\n",
    "print(promedio([])) # 'La lista proporcionada está vacía'"
   ]
  },
  {
   "cell_type": "markdown",
   "id": "326d5c9a",
   "metadata": {},
   "source": [
    "11. Escribe un programa que pida al usuario que introduzca su edad. Si el usuario ingresa un valor no numérico o un valor fuera del rango esperado \n",
    "(por ejemplo, menor que 0 o mayor que 120), maneja las excepciones adecuadamente."
   ]
  },
  {
   "cell_type": "code",
   "execution_count": null,
   "id": "c86fc648",
   "metadata": {},
   "outputs": [],
   "source": [
    "def input_edad():\n",
    "    try:\n",
    "        edad = int(input(\"Introduce tu edad: \"))\n",
    "        \n",
    "        if edad < 0 or edad > 120:\n",
    "            raise ValueError(\"La edad debe estar entre 0 y 120.\")\n",
    "        \n",
    "        print(f\"Tu edad es {edad}.\")\n",
    "    \n",
    "    except ValueError as e:\n",
    "        print(f\"Error: {e}\")\n",
    "\n",
    "input_edad()  #Introduce un número: hola // Error: invalid literal for int() with base 10: 'hola'"
   ]
  },
  {
   "cell_type": "markdown",
   "id": "01667db9",
   "metadata": {},
   "source": [
    "12. Genera una función que al recibir una frase devuelva una lista con la longitud de cada palabra. Usa la función map()"
   ]
  },
  {
   "cell_type": "code",
   "execution_count": null,
   "id": "dc4af0ee",
   "metadata": {},
   "outputs": [],
   "source": [
    "def longitud_palabras(frase):\n",
    "    return list(map(lambda x: len(x), frase.split()))\n",
    "\n",
    "print(longitud_palabras(\"tengo 369 cafés\")) # [5, 3, 5]"
   ]
  },
  {
   "cell_type": "markdown",
   "id": "a32f357e",
   "metadata": {},
   "source": [
    "13. Genera una función la cual, para un conjunto de caracteres, devuelva una lista de tuplas con cada letra en mayúsculas y minúsculas. Las letras no pueden estar repetidas. Usa la función map()"
   ]
  },
  {
   "cell_type": "code",
   "execution_count": null,
   "id": "faf422e6",
   "metadata": {},
   "outputs": [],
   "source": [
    "def lista_tuplas(caracteres):\n",
    "    return list(map(lambda c: (c.upper(), c.lower()), set(caracteres)))\n",
    "\n",
    "print(lista_tuplas(\"python\")) # [('Y', 'y'), ('O', 'o'), ('T', 't'), ('H', 'h'), ('N', 'n'), ('P', 'p')]"
   ]
  },
  {
   "cell_type": "markdown",
   "id": "3b8b2d0f",
   "metadata": {},
   "source": [
    "14. Crea una función que retorne las palabras de una lista de palabras que comience con una letra en especifico. Usa la función filter()"
   ]
  },
  {
   "cell_type": "code",
   "execution_count": null,
   "id": "0c621902",
   "metadata": {},
   "outputs": [],
   "source": [
    "def palabras_que_empiezan_por_letra(palabras, inicial):\n",
    "    return list(filter(lambda p: p.startswith(inicial), palabras))\n",
    "\n",
    "print(palabras_que_empiezan_por_letra([\"hola\", \"mundo\", \"python\", \"programacion\"], \"p\")) # ['python', 'programacion']"
   ]
  },
  {
   "cell_type": "markdown",
   "id": "801018bb",
   "metadata": {},
   "source": [
    "15. Crea una función lambda que  sume 3 a cada número de una lista dada."
   ]
  },
  {
   "cell_type": "code",
   "execution_count": null,
   "id": "b47d8986",
   "metadata": {},
   "outputs": [],
   "source": [
    "def sumar_3(numeros):\n",
    "    return list(map(lambda x: x + 3, numeros))\n",
    "\n",
    "print(sumar_3([2, 5, 7])) # [5, 8, 10]"
   ]
  },
  {
   "cell_type": "markdown",
   "id": "c3d9465a",
   "metadata": {},
   "source": [
    "16. Escribe una función que tome una cadena de texto y un número entero n como parámetros y devuelva una lista de todas las palabras que sean más largas que n. Usa la función filter()"
   ]
  },
  {
   "cell_type": "code",
   "execution_count": null,
   "id": "248cf659",
   "metadata": {},
   "outputs": [],
   "source": [
    "def palabras_mas_largas_que_n(texto, n):\n",
    "    return list(filter(lambda p: len(p) > n, texto.split()))\n",
    "\n",
    "print(palabras_mas_largas_que_n(\"hola soy Marcos Palomero y soy programador\", 3)) # ['hola', 'Marcos', 'Palomero', 'programador']"
   ]
  },
  {
   "cell_type": "markdown",
   "id": "69561fd9",
   "metadata": {},
   "source": [
    "17. Crea una función que tome una lista de dígitos y devuelva el número correspondiente. Por ejemplo, [5,7,2] corresponde al número quinientos setenta y dos (572). Usa la función reduce()"
   ]
  },
  {
   "cell_type": "code",
   "execution_count": null,
   "id": "d117f872",
   "metadata": {},
   "outputs": [],
   "source": [
    "from functools import reduce\n",
    "\n",
    "def numero_desde_digitos(digitos):\n",
    "     cadena = reduce(lambda x, y: str(x) + str(y), map(str, digitos)) # -> Concateno los digitos en un str para despues hacer el casting a int\n",
    "\n",
    "     return int(cadena)\n",
    "\n",
    "print(numero_desde_digitos([5, 7, 2])) # 572"
   ]
  },
  {
   "cell_type": "markdown",
   "id": "be481429",
   "metadata": {},
   "source": [
    "18. Escribe un programa en Python que cree una lista de diccionarios que contenga información de estudiantes (nombre, edad, calificación) y use la función filter para extraer a los estudiantes con una calificación mayor o igual a 90. Usa la función filter()"
   ]
  },
  {
   "cell_type": "code",
   "execution_count": null,
   "id": "ec041d1f",
   "metadata": {},
   "outputs": [],
   "source": [
    "estudiantes = [\n",
    "    {\"nombre\": \"Marcos Palomero\", \"edad\": 20, \"calificacion\": 99}, \n",
    "    {\"nombre\": \"Ana García\", \"edad\": 22, \"calificacion\": 95}, \n",
    "    {\"nombre\": \"Luis Fernández\", \"edad\": 19, \"calificacion\": 88}, \n",
    "    {\"nombre\": \"Sofía López\", \"edad\": 21, \"calificacion\": 70}, \n",
    "    {\"nombre\": \"Carlos Martínez\", \"edad\": 23, \"calificacion\": 85}, \n",
    "]\n",
    "\n",
    "estudiantes_con_90_o_mas_nota = list(map(lambda estudiante: estudiante[\"nombre\"], \n",
    "                                         filter(lambda estudiante: estudiante[\"calificacion\"] >= 90, estudiantes)))\n",
    "\n",
    "print(estudiantes_con_90_o_mas_nota) # ['Marcos Palomero', 'Ana García']"
   ]
  },
  {
   "cell_type": "markdown",
   "id": "9de70a0d",
   "metadata": {},
   "source": [
    "19. Crea una función lambda que filtre los números impares de una lista dada."
   ]
  },
  {
   "cell_type": "code",
   "execution_count": null,
   "id": "487fa195",
   "metadata": {},
   "outputs": [],
   "source": [
    "def impares(numeros):\n",
    "    return list(filter(lambda x: x % 2 != 0, numeros))\n",
    "\n",
    "print(impares([1, 2, 3, 4, 5, 6, 7, 8, 9])) # [1, 3, 5, 7, 9]"
   ]
  },
  {
   "cell_type": "markdown",
   "id": "128d98f3",
   "metadata": {},
   "source": [
    "20. Para una lista con elementos tipo integer y string obtén una nueva lista sólo con los valores int. Usa la función filter()"
   ]
  },
  {
   "cell_type": "code",
   "execution_count": null,
   "id": "dade316d",
   "metadata": {},
   "outputs": [],
   "source": [
    "def filtrar_enteros(lista):\n",
    "    return list(filter(lambda x: type(x) == int, lista))\n",
    "\n",
    "print(filtrar_enteros([9, \"hola\", 21, \"adios\"]))"
   ]
  },
  {
   "cell_type": "markdown",
   "id": "bc89277c",
   "metadata": {},
   "source": [
    "21. Crea una función que calcule el cubo de un número dado mediante una función lambda"
   ]
  },
  {
   "cell_type": "code",
   "execution_count": null,
   "id": "c34d42c4",
   "metadata": {},
   "outputs": [],
   "source": [
    "def calcular_cubo(numero):\n",
    "    return (lambda x: x **3)(numero)\n",
    "\n",
    "print(calcular_cubo(9)) # 729"
   ]
  },
  {
   "cell_type": "markdown",
   "id": "a262cbc7",
   "metadata": {},
   "source": [
    "22. Dada una lista numérica, obtén el producto total de los valores de dicha lista.Usa la función reduce() "
   ]
  },
  {
   "cell_type": "code",
   "execution_count": null,
   "id": "c1d7cbd3",
   "metadata": {},
   "outputs": [],
   "source": [
    "from functools import reduce\n",
    "\n",
    "def total(numeros):\n",
    "    return reduce(lambda x, y: x + y, numeros)\n",
    "\n",
    "print(total([4, 5, 1, 6])) # 16"
   ]
  },
  {
   "cell_type": "markdown",
   "id": "ca947714",
   "metadata": {},
   "source": [
    "23. Concatena una lista de palabras. Usa la función reduce() ."
   ]
  },
  {
   "cell_type": "code",
   "execution_count": null,
   "id": "3ddf8107",
   "metadata": {},
   "outputs": [],
   "source": [
    "from functools import reduce\n",
    "\n",
    "def concatenar(palabras):\n",
    "    return reduce(lambda f, p: f\"{f} {p}\", palabras)\n",
    "\n",
    "print(concatenar([\"hola\", \"soy\", \"programador\"])) # hola soy programador"
   ]
  },
  {
   "cell_type": "markdown",
   "id": "31d34c5a",
   "metadata": {},
   "source": [
    "24. Calcula la diferencia total en los valores de una lista. Usa la función reduce() "
   ]
  },
  {
   "cell_type": "code",
   "execution_count": null,
   "id": "d895a219",
   "metadata": {},
   "outputs": [],
   "source": [
    "from functools import reduce\n",
    "\n",
    "def diferencia_total(numeros):\n",
    "     return reduce(lambda x, y: x - y, numeros)\n",
    "\n",
    "print(diferencia_total([4, 5, 1, 6])) # -8"
   ]
  },
  {
   "cell_type": "markdown",
   "id": "73572c48",
   "metadata": {},
   "source": [
    "25. Crea una función que cuente el número de caracteres en una cadena de texto dada."
   ]
  },
  {
   "cell_type": "code",
   "execution_count": null,
   "id": "7c3d571b",
   "metadata": {},
   "outputs": [],
   "source": [
    "from functools import reduce\n",
    "\n",
    "def contar_caracteres(texto):\n",
    "    return reduce(lambda cont, char: cont + len(char), texto.split(), 0)\n",
    "\n",
    "print(contar_caracteres(\"esternocleidomastoideo\")) # 22"
   ]
  },
  {
   "cell_type": "markdown",
   "id": "dd202e85",
   "metadata": {},
   "source": [
    "26. Crea una función lambda que calcule el resto de la división entre dos números dados."
   ]
  },
  {
   "cell_type": "code",
   "execution_count": null,
   "id": "906672fd",
   "metadata": {},
   "outputs": [],
   "source": [
    "def calcular_resto(dividendo, divisor):\n",
    "    return (lambda x, y: x % y)(dividendo, divisor)\n",
    "\n",
    "print(calcular_resto(22, 7)) # 1"
   ]
  },
  {
   "cell_type": "markdown",
   "id": "c921ea6a",
   "metadata": {},
   "source": [
    "27. Crea una función que calcule el promedio de una lista de números."
   ]
  },
  {
   "cell_type": "code",
   "execution_count": null,
   "id": "7580518a",
   "metadata": {},
   "outputs": [],
   "source": [
    "def promedio(numeros):\n",
    "    if len(numeros) != 0:\n",
    "        return sum(numeros) / len(numeros)\n",
    "    else:\n",
    "        return \"La lista de números está vacía\"\n",
    "\n",
    "print(promedio([7, 8, 7])) # 7.333333333333333"
   ]
  },
  {
   "cell_type": "markdown",
   "id": "19e79660",
   "metadata": {},
   "source": [
    "28. Crea una función que busque y devuelva el primer elemento duplicado en una lista dada."
   ]
  },
  {
   "cell_type": "code",
   "execution_count": null,
   "id": "b5894eb2",
   "metadata": {},
   "outputs": [],
   "source": [
    "def buscar_primer_duplicado(lista):\n",
    "    vistos = []\n",
    "    return next((elemento for elemento in lista if elemento in vistos or vistos.append(elemento)), \"No hay duplicados\") # --> next(...) devuelve el PRIMER valor que genera el iterador, si no se genera nada, se devuelve el segundo argumento\n",
    "\n",
    "print(buscar_primer_duplicado([1, 2, 3, 4])) # No hay duplicados\n",
    "print(buscar_primer_duplicado([\"berserk\", \"one piece\", \"kimetsu\", \"berserk\"])) # berserk"
   ]
  },
  {
   "cell_type": "markdown",
   "id": "fce3a48c",
   "metadata": {},
   "source": [
    "29. Crea una función que convierta una variable en una cadena de texto y enmascare todos los caracteres  con el carácter '#', excepto los últimos cuatro."
   ]
  },
  {
   "cell_type": "code",
   "execution_count": null,
   "id": "30012d2d",
   "metadata": {},
   "outputs": [],
   "source": [
    "def enmascarar(variable):\n",
    "    texto = str(variable)\n",
    "    resultado = '#' * max(len(texto) - 4, 0) + texto[-4:] \n",
    "    # --> 1) Pone tantos # como la longitud del texto -4 haya (asegurandose que no da valores negativos con max()), e.g si len(texto) es 6 -> ##\n",
    "    # --> 2) Añade los ultimos 4 caracteres\n",
    "\n",
    "    return resultado\n",
    "\n",
    "print(enmascarar(7851658788)) # ######8788"
   ]
  },
  {
   "cell_type": "markdown",
   "id": "dfab35a5",
   "metadata": {},
   "source": [
    "30. Crea una función que determine si dos palabras son anagramas, es decir, si están formadas por las mismas letras pero en diferente orden."
   ]
  },
  {
   "cell_type": "code",
   "execution_count": null,
   "id": "db6b39d0",
   "metadata": {},
   "outputs": [],
   "source": [
    "def anagramas(palabra1, palabra2):\n",
    "    return sorted(palabra1) == sorted(palabra2)   \n",
    "\n",
    "print(anagramas(\"aloh\", \"hola\"))  "
   ]
  },
  {
   "cell_type": "markdown",
   "id": "4c1086cf",
   "metadata": {},
   "source": [
    "31. Crea una función que solicite al usuario ingresar una lista de nombres y luego solicite un nombre para buscar en esa lista. Si el nombre está en la lista, se imprime un mensaje indicando que fue encontrado, de lo contrario, se lanza una excepción."
   ]
  },
  {
   "cell_type": "code",
   "execution_count": null,
   "id": "0478b0dc",
   "metadata": {},
   "outputs": [],
   "source": [
    "def encontrar_nombre():\n",
    "    try:\n",
    "        lista_nombres = []\n",
    "        nombre1 = str(input(\"Nombre 1: \"))\n",
    "        nombre2 = str(input(\"Nombre 2: \"))\n",
    "        nombre3 = str(input(\"Nombre 3: \"))\n",
    "\n",
    "        lista_nombres.extend([nombre1, nombre2, nombre3])\n",
    "\n",
    "        encontrar = str(input(\"Nombre a buscar en la lista: \"))\n",
    "\n",
    "        if encontrar in lista_nombres:\n",
    "            return f\"'{encontrar}' ha sido encontrado\"\n",
    "        else:\n",
    "            raise ValueError(f\"'{encontrar}' no se encuentra en la lista.\")\n",
    "    except ValueError as e:\n",
    "        return str(e)\n",
    "\n",
    "print(encontrar_nombre())"
   ]
  },
  {
   "cell_type": "markdown",
   "id": "f661f7d2",
   "metadata": {},
   "source": [
    "32. Crea una función que tome un nombre completo y una lista de empleados, busque el nombre completo en la lista y devuelve el puesto del empleado si está en la lista, de lo contrario, devuelve un mensaje indicando que la persona no trabaja aquí."
   ]
  },
  {
   "cell_type": "code",
   "execution_count": null,
   "id": "384a19ce",
   "metadata": {},
   "outputs": [],
   "source": [
    "def buscar_empleado(nombre_completo, empleados):\n",
    "    if nombre_completo in empleados:\n",
    "        return nombre_completo\n",
    "    else:\n",
    "        return \"Esa persona no trabaja aquí\"\n",
    "\n",
    "\n",
    "empleados = [\"Juan Pérez\", \"María Gómez\", \"Pedro Martínez\"]\n",
    "\n",
    "print(buscar_empleado(\"Ana López\", empleados))   # Esa persona no trabaja aquí\n"
   ]
  },
  {
   "cell_type": "markdown",
   "id": "bc57f665",
   "metadata": {},
   "source": [
    "33. Crea una función lambda que sume elementos correspondientes de dos listas dadas."
   ]
  },
  {
   "cell_type": "code",
   "execution_count": null,
   "id": "3068c1d4",
   "metadata": {},
   "outputs": [],
   "source": [
    "def suma(numeros1, numeros2):\n",
    "    return list(map(lambda x, y: x + y, numeros1, numeros2))\n",
    "\n",
    "print(suma([1, 2, 3], [4, 5, 6])) # [5, 7, 9]"
   ]
  },
  {
   "cell_type": "markdown",
   "id": "ece7204c",
   "metadata": {},
   "source": [
    "34. Crea la clase Arbol , define un árbol genérico con un tronco y ramas como atributos. Los métodos disponibles son: crecer_tronco , nueva_rama , crecer_ramas , quitar_rama e info_arbol . El objetivo es implementar estos métodos para manipular la estructura del árbol."
   ]
  },
  {
   "cell_type": "code",
   "execution_count": null,
   "id": "8c5822b4",
   "metadata": {},
   "outputs": [],
   "source": [
    "class Arbol:\n",
    "    def __init__(self, tronco, ramas = []):\n",
    "        self.tronco = tronco\n",
    "        self.ramas = ramas \n",
    "    \n",
    "    def crecer_tronco(self, cantidad):\n",
    "        self.tronco += cantidad\n",
    "    \n",
    "    def nueva_rama(self):\n",
    "        self.ramas.append(1)\n",
    "    \n",
    "    def crecer_ramas(self):\n",
    "        self.ramas = [rama + 1 for rama in self.ramas]\n",
    "    \n",
    "    def quitar_rama(self, posicion):\n",
    "        if 0 <= posicion < len(self.ramas):\n",
    "            del self.ramas[posicion]\n",
    "        else:\n",
    "            return \"Posición inválida\"\n",
    "    \n",
    "    def info_arbol(self):\n",
    "        ramas_info = \", \".join(str(rama) for rama in self.ramas)\n",
    "        return f\"El árbol tiene un tronco de {self.tronco} metros y {len(self.ramas)} ramas de longitudes: {ramas_info}\"\n",
    "\n",
    "# Crear un árbol con un tronco de 1 metro\n",
    "arbol = Arbol(1)\n",
    "\n",
    "# Hacer crecer el tronco una unidad\n",
    "arbol.crecer_tronco(1)\n",
    "\n",
    "# Añadir una nueva rama\n",
    "arbol.nueva_rama()\n",
    "\n",
    "# Hacer crecer todas las ramas una unidad\n",
    "arbol.crecer_ramas(1)\n",
    "\n",
    "# Añadir dos nuevas ramas\n",
    "arbol.nueva_rama()\n",
    "arbol.nueva_rama()\n",
    "\n",
    "# Quitar la rama de la posición 2\n",
    "arbol.quitar_rama(2)\n",
    "\n",
    "# Obtener la información sobre el árbol\n",
    "print(arbol.info_arbol()) # El árbol tiene un tronco de 2 metros y 2 ramas de longitudes: 2, 2\n"
   ]
  },
  {
   "cell_type": "markdown",
   "id": "2a9f01d1",
   "metadata": {},
   "source": [
    "36. Crea la clase UsuarioBanco, representa a un usuario de un banco con su nombre, saldo y si tiene o no cuenta corriente. Proporciona métodos para realizar operaciones como retirar dinero, transferir dinero desde otro usuario y agregar dinero al saldo."
   ]
  },
  {
   "cell_type": "code",
   "execution_count": null,
   "id": "553d571c",
   "metadata": {},
   "outputs": [],
   "source": [
    "class UsuarioBanco:\n",
    "    def __init__(self, nombre, saldo, cuenta_corriente):\n",
    "        self.nombre = nombre\n",
    "        self.saldo = saldo\n",
    "        self.cuenta_corriente = cuenta_corriente\n",
    "    \n",
    "    def retirar_dinero(self, cantidad):\n",
    "        if self.saldo >= cantidad:\n",
    "            self.saldo -= cantidad\n",
    "        else:\n",
    "            raise ValueError(\"No tienes suficiente saldo\")\n",
    "    \n",
    "    def transferir_dinero(self, otro_usuario, cantidad):\n",
    "        if self.saldo >= cantidad:\n",
    "            self.saldo -= cantidad\n",
    "            otro_usuario.saldo += cantidad\n",
    "        else:\n",
    "            raise ValueError(\"No tienes suficiente saldo\")\n",
    "    \n",
    "    def agregar_dinero(self, cantidad):\n",
    "        self.saldo += cantidad\n",
    "\n",
    "# Crear dos usuarios\n",
    "alicia = UsuarioBanco(\"Alicia\", 100, True)\n",
    "bob = UsuarioBanco(\"Bob\", 50, True)\n",
    "\n",
    "# Agregar 20 unidades de saldo a Bob\n",
    "bob.agregar_dinero(20)\n",
    "\n",
    "# Transferir 80 unidades de Bob a Alicia\n",
    "bob.transferir_dinero(alicia, 80)\n",
    "\n",
    "# Retirar 50 unidades de saldo a Alicia\n",
    "alicia.retirar_dinero(50)\n",
    "\n",
    "print(alicia.saldo) # 130\n",
    "print(bob.saldo) # 20"
   ]
  },
  {
   "cell_type": "markdown",
   "id": "4a0db23a",
   "metadata": {},
   "source": [
    "37. Crea una función llamada procesar_texto que procesa un texto según la opción especificada: reemplazar_palabras , procesar_texto . contar_palabras , eliminar_palabra . Estas opciones son otras funciones que tenemos que definir primero y llamar dentro de la función procesar_texto"
   ]
  },
  {
   "cell_type": "code",
   "execution_count": null,
   "id": "09efce9d",
   "metadata": {},
   "outputs": [],
   "source": [
    "def contar_palabras(texto):\n",
    "    diccionario = {}\n",
    "\n",
    "    for palabra in texto.split():\n",
    "        if palabra in diccionario:\n",
    "            diccionario[palabra] += 1\n",
    "        else:\n",
    "            diccionario[palabra] = 1\n",
    "\n",
    "    return diccionario\n",
    "\n",
    "def reemplazar_palabras(texto, original, nueva):\n",
    "    return texto.replace(original, nueva)\n",
    "\n",
    "def eliminar_palabra(texto, palabra):\n",
    "    palabras = texto.split()\n",
    "    if palabra in palabras:\n",
    "        palabras.remove(palabra)\n",
    "        return \" \".join(palabras)\n",
    "    else:\n",
    "        return f\"'{palabra}' no está en el texto\"\n",
    "\n",
    "# Crear la función procesar_texto que tome un texto, una opción(entre \"contar\", \"reemplazar\", \"eliminar\") y un número de argumentos variable según la opción indicada.\n",
    "\n",
    "def procesar_texto(texto, opcion, *args):\n",
    "    if opcion == \"contar\":\n",
    "        return contar_palabras(texto)\n",
    "    elif opcion == \"reemplazar\":\n",
    "        if len(args) != 2:\n",
    "            return \"Error: 'reemplazar' requiere 2 argumentos: la palabra original y la nueva palabra.\"\n",
    "        original, nueva = args\n",
    "        return reemplazar_palabras(texto, original, nueva)\n",
    "    elif opcion == \"eliminar\":\n",
    "        if len(args) != 1:\n",
    "            return \"Error: 'eliminar' requiere 1 argumento: la palabra a eliminar.\"\n",
    "        palabra = args[0]\n",
    "        return eliminar_palabra(texto, palabra)\n",
    "    else:\n",
    "        return \"Error: Opción no válida. Usa 'contar', 'reemplazar' o 'eliminar'.\"\n",
    "    \n",
    "print(procesar_texto(\"hola hola hola me llamo Marcos\", \"contar\")) # {'hola': 3, 'me': 1, 'llamo': 1, 'Marcos': 1}\n",
    "print(procesar_texto(\"hola como estas?\", \"reemplazar\", \"hola\", \"adios\")) # adios como estas?\n",
    "print(procesar_texto(\"el barrio es tranquilo\", \"eliminar\", \"es\")) # el barrio tranquilo\n",
    "print(procesar_texto(\"hola como estas?\", \"opcion_invalida\")) # Error: Opción no válida. Usa 'contar', 'reemplazar' o 'eliminar'.\n",
    "print(procesar_texto(\"hola como estas?\", \"reemplazar\", \"hola\")) # Error: 'reemplazar' requiere 2 argumentos: la palabra original y la nueva palabra.\n",
    "print(procesar_texto(\"hola como estas?\", \"eliminar\", \"hola\", \"adios\")) # Error: 'eliminar' requiere 1 argumento: la palabra a eliminar.\n"
   ]
  },
  {
   "cell_type": "markdown",
   "id": "a2c45a5a",
   "metadata": {},
   "source": [
    "38. Genera un programa que nos diga si es de noche, de día o tarde según la hora proporcionada por el usuario."
   ]
  },
  {
   "cell_type": "code",
   "execution_count": null,
   "id": "25b8c55c",
   "metadata": {},
   "outputs": [],
   "source": [
    "from datetime import datetime\n",
    "\n",
    "def momento_dia(hora_str):\n",
    "    try:\n",
    "        hora = datetime.strptime(hora_str, \"%H:%M\").time()\n",
    "\n",
    "        if 6 <= hora.hour <= 12:\n",
    "            return \"Es de día.\"\n",
    "        elif 13 <= hora.hour <= 18:\n",
    "            return \"Es por la tarde.\"\n",
    "        else:\n",
    "            return \"Es de noche.\"\n",
    "    except ValueError:\n",
    "        return \"Formato inválido. Por favor, ingresa la hora en formato HH:MM.\"\n",
    "\n",
    "\n",
    "hora_usuario = input(\"Por favor, ingresa la hora en formato HH:MM: \")\n",
    "print(momento_dia(hora_usuario))  # Por favor, ingresa la hora en formato HH:MM: 15:00 // Es por la tarde."
   ]
  },
  {
   "cell_type": "markdown",
   "id": "b2835e3e",
   "metadata": {},
   "source": [
    "39. Escribe un programa que determine qué calificación en texto tiene un alumno en base a su calificación numérica."
   ]
  },
  {
   "cell_type": "code",
   "execution_count": null,
   "id": "6b0163d7",
   "metadata": {},
   "outputs": [],
   "source": [
    "def calificacion_texto(calificacion):\n",
    "    if 0 <= calificacion <= 69:\n",
    "        return \"Insuficiente\"\n",
    "    elif 70 <= calificacion <= 79:\n",
    "        return \"Bien\"\n",
    "    elif 80 <= calificacion <= 89:\n",
    "        return \"Muy bien\"\n",
    "    elif 90 <= calificacion <= 100:\n",
    "        return \"Excelente\"\n",
    "    else:\n",
    "        return \"Calificación no válida\"\n",
    "\n",
    "calificacion = float(input(\"Introduce la calificación: \"))\n",
    "print(calificacion_texto(calificacion)) # Introduce la calificación: 96 -> Excelente"
   ]
  },
  {
   "cell_type": "markdown",
   "id": "234d1984",
   "metadata": {},
   "source": [
    "40. Escribe una función que tome dos parámetros: figura (una cadena que puede ser \"rectangulo\" , \"circulo\" o \"triangulo\") y datos (una tupla con los datos necesarios para calcular el área de la figura)."
   ]
  },
  {
   "cell_type": "code",
   "execution_count": null,
   "id": "7fc452ed",
   "metadata": {},
   "outputs": [],
   "source": [
    "# Escribe una función que tome dos parámetros: figura (una cadena que puede ser \"rectangulo\" , \"circulo\" o \"triangulo\") y datos (una tupla con los datos necesarios para calcular el área de la figura).\n",
    "\n",
    "def calcular_area(figura, datos):\n",
    "    if figura == \"rectangulo\":\n",
    "        base, altura = datos\n",
    "        return base * altura\n",
    "    elif figura == \"circulo\":\n",
    "        radio = datos[0]\n",
    "        return 3.1416 * radio ** 2\n",
    "    elif figura == \"triangulo\":\n",
    "        base, altura = datos\n",
    "        return (base * altura) / 2\n",
    "    else:\n",
    "        return \"Figura no válida\"\n",
    "    \n",
    "\n",
    "print(calcular_area(\"rectangulo\", (5, 3))) # 15\n",
    "print(calcular_area(\"circulo\", (4,))) # 50.2656\n",
    "print(calcular_area(\"triangulo\", (4, 3))) # 6.0"
   ]
  },
  {
   "cell_type": "markdown",
   "id": "338d6167",
   "metadata": {},
   "source": [
    "41. En este ejercicio, se te pedirá que escribas un programa en Python que utilice condicionales para determinar el monto final de una compra en una tienda en línea, después de aplicar un descuento."
   ]
  },
  {
   "cell_type": "code",
   "execution_count": null,
   "id": "4713b759",
   "metadata": {},
   "outputs": [],
   "source": [
    "precio = float(input(\"Introduce el precio del artículo: \"))\n",
    "cupon = input(\"¿Tienes un cupón de descuento? (sí/no): \")\n",
    "\n",
    "if cupon == \"sí\":\n",
    "    valor_cupon = float(input(\"Introduce el valor del cupón: \"))\n",
    "    if valor_cupon > 0:\n",
    "        precio -= valor_cupon\n",
    "        print(f\"El precio final de la compra es: {precio}\")\n",
    "    else:\n",
    "        print(\"El valor del cupón no es válido.\")\n",
    "else:\n",
    "    print(f\"El precio final de la compra es: {precio}\")\n",
    "\n",
    "'''\n",
    "Introduce el precio del artículo: 100\n",
    "¿Tienes un cupón de descuento? (sí/no): sí\n",
    "Introduce el valor del cupón: 20\n",
    "\n",
    "--> El precio final de la compra es: 80.0\n",
    "'''\n"
   ]
  }
 ],
 "metadata": {
  "kernelspec": {
   "display_name": "Python 3",
   "language": "python",
   "name": "python3"
  },
  "language_info": {
   "codemirror_mode": {
    "name": "ipython",
    "version": 3
   },
   "file_extension": ".py",
   "mimetype": "text/x-python",
   "name": "python",
   "nbconvert_exporter": "python",
   "pygments_lexer": "ipython3",
   "version": "3.12.5"
  }
 },
 "nbformat": 4,
 "nbformat_minor": 5
}
